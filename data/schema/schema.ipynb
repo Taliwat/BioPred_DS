{
 "cells": [
  {
   "cell_type": "markdown",
   "id": "20306556",
   "metadata": {},
   "source": [
    "### ChEMBL Schema Overview\n",
    "\n",
    "This is the schema used to explore table relationships for this project:\n",
    "\n",
    "\n",
    "![ChEMBL 35 Schema](https://ftp.ebi.ac.uk/pub/databases/chembl/ChEMBLdb/latest/chembl_35_schema.png)"
   ]
  },
  {
   "cell_type": "markdown",
   "id": "41155fab",
   "metadata": {},
   "source": []
  }
 ],
 "metadata": {
  "language_info": {
   "name": "python"
  }
 },
 "nbformat": 4,
 "nbformat_minor": 5
}
